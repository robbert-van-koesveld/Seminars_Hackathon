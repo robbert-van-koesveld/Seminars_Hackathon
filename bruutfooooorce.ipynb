{
 "cells": [
  {
   "cell_type": "code",
   "execution_count": 2,
   "metadata": {},
   "outputs": [],
   "source": [
    "import pandas as pd \n",
    "import numpy as np"
   ]
  },
  {
   "cell_type": "code",
   "execution_count": 3,
   "metadata": {},
   "outputs": [
    {
     "data": {
      "text/html": [
       "<div>\n",
       "<style scoped>\n",
       "    .dataframe tbody tr th:only-of-type {\n",
       "        vertical-align: middle;\n",
       "    }\n",
       "\n",
       "    .dataframe tbody tr th {\n",
       "        vertical-align: top;\n",
       "    }\n",
       "\n",
       "    .dataframe thead th {\n",
       "        text-align: right;\n",
       "    }\n",
       "</style>\n",
       "<table border=\"1\" class=\"dataframe\">\n",
       "  <thead>\n",
       "    <tr style=\"text-align: right;\">\n",
       "      <th></th>\n",
       "      <th>label</th>\n",
       "      <th>latitude</th>\n",
       "      <th>longitude</th>\n",
       "      <th>critical</th>\n",
       "    </tr>\n",
       "  </thead>\n",
       "  <tbody>\n",
       "    <tr>\n",
       "      <th>0</th>\n",
       "      <td>Alkmaar</td>\n",
       "      <td>52.637779</td>\n",
       "      <td>4.739722</td>\n",
       "      <td>Critical</td>\n",
       "    </tr>\n",
       "    <tr>\n",
       "      <th>1</th>\n",
       "      <td>Almelo</td>\n",
       "      <td>52.358055</td>\n",
       "      <td>6.653889</td>\n",
       "      <td>NaN</td>\n",
       "    </tr>\n",
       "    <tr>\n",
       "      <th>2</th>\n",
       "      <td>Almere Centrum</td>\n",
       "      <td>52.375030</td>\n",
       "      <td>5.217640</td>\n",
       "      <td>NaN</td>\n",
       "    </tr>\n",
       "    <tr>\n",
       "      <th>3</th>\n",
       "      <td>Alphen a/d Rijn</td>\n",
       "      <td>52.124443</td>\n",
       "      <td>4.657778</td>\n",
       "      <td>NaN</td>\n",
       "    </tr>\n",
       "    <tr>\n",
       "      <th>4</th>\n",
       "      <td>Amersfoort</td>\n",
       "      <td>52.153889</td>\n",
       "      <td>5.370555</td>\n",
       "      <td>NaN</td>\n",
       "    </tr>\n",
       "  </tbody>\n",
       "</table>\n",
       "</div>"
      ],
      "text/plain": [
       "             label   latitude  longitude  critical\n",
       "0          Alkmaar  52.637779   4.739722  Critical\n",
       "1           Almelo  52.358055   6.653889       NaN\n",
       "2   Almere Centrum  52.375030   5.217640       NaN\n",
       "3  Alphen a/d Rijn  52.124443   4.657778       NaN\n",
       "4       Amersfoort  52.153889   5.370555       NaN"
      ]
     },
     "execution_count": 3,
     "metadata": {},
     "output_type": "execute_result"
    }
   ],
   "source": [
    "data_station = pd.read_csv(\"Stations.csv\")\n",
    "data_conection = pd.read_csv(\"Connection_Times.csv\")\n",
    "data_station.head(5)"
   ]
  },
  {
   "cell_type": "code",
   "execution_count": 4,
   "metadata": {},
   "outputs": [
    {
     "data": {
      "text/html": [
       "<div>\n",
       "<style scoped>\n",
       "    .dataframe tbody tr th:only-of-type {\n",
       "        vertical-align: middle;\n",
       "    }\n",
       "\n",
       "    .dataframe tbody tr th {\n",
       "        vertical-align: top;\n",
       "    }\n",
       "\n",
       "    .dataframe thead th {\n",
       "        text-align: right;\n",
       "    }\n",
       "</style>\n",
       "<table border=\"1\" class=\"dataframe\">\n",
       "  <thead>\n",
       "    <tr style=\"text-align: right;\">\n",
       "      <th></th>\n",
       "      <th>stationA</th>\n",
       "      <th>stationB</th>\n",
       "      <th>time</th>\n",
       "    </tr>\n",
       "  </thead>\n",
       "  <tbody>\n",
       "    <tr>\n",
       "      <th>0</th>\n",
       "      <td>Alkmaar</td>\n",
       "      <td>Hoorn</td>\n",
       "      <td>24</td>\n",
       "    </tr>\n",
       "    <tr>\n",
       "      <th>1</th>\n",
       "      <td>Alkmaar</td>\n",
       "      <td>Den Helder</td>\n",
       "      <td>36</td>\n",
       "    </tr>\n",
       "    <tr>\n",
       "      <th>2</th>\n",
       "      <td>Almelo</td>\n",
       "      <td>Hengelo</td>\n",
       "      <td>10</td>\n",
       "    </tr>\n",
       "    <tr>\n",
       "      <th>3</th>\n",
       "      <td>Almere Centrum</td>\n",
       "      <td>Lelystad Centrum</td>\n",
       "      <td>14</td>\n",
       "    </tr>\n",
       "    <tr>\n",
       "      <th>4</th>\n",
       "      <td>Amsterdam Amstel</td>\n",
       "      <td>Almere Centrum</td>\n",
       "      <td>27</td>\n",
       "    </tr>\n",
       "  </tbody>\n",
       "</table>\n",
       "</div>"
      ],
      "text/plain": [
       "          stationA           stationB  time\n",
       "0           Alkmaar             Hoorn    24\n",
       "1           Alkmaar        Den Helder    36\n",
       "2            Almelo           Hengelo    10\n",
       "3    Almere Centrum  Lelystad Centrum    14\n",
       "4  Amsterdam Amstel    Almere Centrum    27"
      ]
     },
     "execution_count": 4,
     "metadata": {},
     "output_type": "execute_result"
    }
   ],
   "source": [
    "data_conection.head(5)"
   ]
  },
  {
   "cell_type": "code",
   "execution_count": 33,
   "metadata": {},
   "outputs": [
    {
     "name": "stdout",
     "output_type": "stream",
     "text": [
      "Weert\n",
      "    level_0  index stationA    stationB  time\n",
      "79       79     79     Weert  Eindhoven    17\n",
      "    level_0  index stationA  stationB  time\n",
      "57       57     57  Roermond    Weert    14\n",
      "next station\n",
      "    level_0  index stationA    stationB  time\n",
      "79       79     79     Weert  Eindhoven    17\n"
     ]
    }
   ],
   "source": [
    "#data_conection.reset_index(inplace=True)\n",
    "trajectory=[[],[],[],[],[]]\n",
    "max_time=60*3\n",
    "current_time=0\n",
    "for i in range(0,400):\n",
    "    if current_time < max_time:\n",
    "        if not trajectory[0]:\n",
    "            x=data_station.sample()\n",
    "            print(x.iloc[0,0])\n",
    "            trajectory[0].append(x.iloc[0,0])\n",
    "        nextstation_optionsA=data_conection[(data_conection['stationA '] == trajectory[0][-1])]\n",
    "        nextstation_optionsB=data_conection[(data_conection['stationB'] == trajectory[0][-1])]\n",
    "        if nextstation_optionsA.empty == True:\n",
    "            if nextstation_optionsB.empty == True:\n",
    "                current_time=300\n",
    "            if nextstation_optionsB.empty == False:\n",
    "                nextstation=nextstation_optionsB.sample()\n",
    "        if nextstation_optionsA.empty == False:\n",
    "            nextstation=nextstation_optionsA.sample()\n",
    "            \n",
    "            \n",
    "\n",
    "print(nextstation_optionsA)\n",
    "print(nextstation_optionsB)\n",
    "print(\"next station\")\n",
    "print(nextstation)\n",
    "#print(trajectory)\n"
   ]
  },
  {
   "cell_type": "code",
   "execution_count": null,
   "metadata": {},
   "outputs": [],
   "source": []
  },
  {
   "cell_type": "code",
   "execution_count": null,
   "metadata": {},
   "outputs": [],
   "source": []
  },
  {
   "cell_type": "code",
   "execution_count": null,
   "metadata": {},
   "outputs": [],
   "source": []
  }
 ],
 "metadata": {
  "kernelspec": {
   "display_name": "Python 3",
   "language": "python",
   "name": "python3"
  },
  "language_info": {
   "codemirror_mode": {
    "name": "ipython",
    "version": 3
   },
   "file_extension": ".py",
   "mimetype": "text/x-python",
   "name": "python",
   "nbconvert_exporter": "python",
   "pygments_lexer": "ipython3",
   "version": "3.8.5"
  }
 },
 "nbformat": 4,
 "nbformat_minor": 4
}
